{
 "cells": [
  {
   "cell_type": "code",
   "execution_count": 1,
   "id": "74485d67",
   "metadata": {},
   "outputs": [],
   "source": [
    "import pandas as pd\n",
    "import matplotlib\n",
    "import numpy as np\n",
    "import matplotlib.pyplot as plt\n",
    "import seaborn as sns\n",
    "\n"
   ]
  },
  {
   "cell_type": "code",
   "execution_count": 2,
   "id": "9de0c46a",
   "metadata": {},
   "outputs": [],
   "source": [
    "# reading the excel file\n",
    "df = pd.read_csv(\"world_population.csv\")"
   ]
  },
  {
   "cell_type": "code",
   "execution_count": 3,
   "id": "1dd7400a",
   "metadata": {
    "scrolled": true
   },
   "outputs": [
    {
     "data": {
      "text/html": [
       "<div>\n",
       "<style scoped>\n",
       "    .dataframe tbody tr th:only-of-type {\n",
       "        vertical-align: middle;\n",
       "    }\n",
       "\n",
       "    .dataframe tbody tr th {\n",
       "        vertical-align: top;\n",
       "    }\n",
       "\n",
       "    .dataframe thead th {\n",
       "        text-align: right;\n",
       "    }\n",
       "</style>\n",
       "<table border=\"1\" class=\"dataframe\">\n",
       "  <thead>\n",
       "    <tr style=\"text-align: right;\">\n",
       "      <th></th>\n",
       "      <th>Rank</th>\n",
       "      <th>CCA3</th>\n",
       "      <th>Country</th>\n",
       "      <th>Capital</th>\n",
       "      <th>Continent</th>\n",
       "      <th>2022 Population</th>\n",
       "      <th>2020 Population</th>\n",
       "      <th>2015 Population</th>\n",
       "      <th>2010 Population</th>\n",
       "      <th>2000 Population</th>\n",
       "      <th>1990 Population</th>\n",
       "      <th>1980 Population</th>\n",
       "      <th>1970 Population</th>\n",
       "      <th>Area</th>\n",
       "      <th>Density</th>\n",
       "      <th>Growth Rate</th>\n",
       "      <th>World Population Percentage</th>\n",
       "    </tr>\n",
       "  </thead>\n",
       "  <tbody>\n",
       "    <tr>\n",
       "      <th>0</th>\n",
       "      <td>36</td>\n",
       "      <td>AFG</td>\n",
       "      <td>Afghanistan</td>\n",
       "      <td>Kabul</td>\n",
       "      <td>Asia</td>\n",
       "      <td>41128771</td>\n",
       "      <td>38972230</td>\n",
       "      <td>33753499</td>\n",
       "      <td>28189672</td>\n",
       "      <td>19542982</td>\n",
       "      <td>10694796</td>\n",
       "      <td>12486631</td>\n",
       "      <td>10752971</td>\n",
       "      <td>652230</td>\n",
       "      <td>63.0587</td>\n",
       "      <td>1.0257</td>\n",
       "      <td>0.52</td>\n",
       "    </tr>\n",
       "    <tr>\n",
       "      <th>1</th>\n",
       "      <td>138</td>\n",
       "      <td>ALB</td>\n",
       "      <td>Albania</td>\n",
       "      <td>Tirana</td>\n",
       "      <td>Europe</td>\n",
       "      <td>2842321</td>\n",
       "      <td>2866849</td>\n",
       "      <td>2882481</td>\n",
       "      <td>2913399</td>\n",
       "      <td>3182021</td>\n",
       "      <td>3295066</td>\n",
       "      <td>2941651</td>\n",
       "      <td>2324731</td>\n",
       "      <td>28748</td>\n",
       "      <td>98.8702</td>\n",
       "      <td>0.9957</td>\n",
       "      <td>0.04</td>\n",
       "    </tr>\n",
       "    <tr>\n",
       "      <th>2</th>\n",
       "      <td>34</td>\n",
       "      <td>DZA</td>\n",
       "      <td>Algeria</td>\n",
       "      <td>Algiers</td>\n",
       "      <td>Africa</td>\n",
       "      <td>44903225</td>\n",
       "      <td>43451666</td>\n",
       "      <td>39543154</td>\n",
       "      <td>35856344</td>\n",
       "      <td>30774621</td>\n",
       "      <td>25518074</td>\n",
       "      <td>18739378</td>\n",
       "      <td>13795915</td>\n",
       "      <td>2381741</td>\n",
       "      <td>18.8531</td>\n",
       "      <td>1.0164</td>\n",
       "      <td>0.56</td>\n",
       "    </tr>\n",
       "    <tr>\n",
       "      <th>3</th>\n",
       "      <td>213</td>\n",
       "      <td>ASM</td>\n",
       "      <td>American Samoa</td>\n",
       "      <td>Pago Pago</td>\n",
       "      <td>Oceania</td>\n",
       "      <td>44273</td>\n",
       "      <td>46189</td>\n",
       "      <td>51368</td>\n",
       "      <td>54849</td>\n",
       "      <td>58230</td>\n",
       "      <td>47818</td>\n",
       "      <td>32886</td>\n",
       "      <td>27075</td>\n",
       "      <td>199</td>\n",
       "      <td>222.4774</td>\n",
       "      <td>0.9831</td>\n",
       "      <td>0.00</td>\n",
       "    </tr>\n",
       "    <tr>\n",
       "      <th>4</th>\n",
       "      <td>203</td>\n",
       "      <td>AND</td>\n",
       "      <td>Andorra</td>\n",
       "      <td>Andorra la Vella</td>\n",
       "      <td>Europe</td>\n",
       "      <td>79824</td>\n",
       "      <td>77700</td>\n",
       "      <td>71746</td>\n",
       "      <td>71519</td>\n",
       "      <td>66097</td>\n",
       "      <td>53569</td>\n",
       "      <td>35611</td>\n",
       "      <td>19860</td>\n",
       "      <td>468</td>\n",
       "      <td>170.5641</td>\n",
       "      <td>1.0100</td>\n",
       "      <td>0.00</td>\n",
       "    </tr>\n",
       "  </tbody>\n",
       "</table>\n",
       "</div>"
      ],
      "text/plain": [
       "   Rank CCA3         Country           Capital Continent  2022 Population  \\\n",
       "0    36  AFG     Afghanistan             Kabul      Asia         41128771   \n",
       "1   138  ALB         Albania            Tirana    Europe          2842321   \n",
       "2    34  DZA         Algeria           Algiers    Africa         44903225   \n",
       "3   213  ASM  American Samoa         Pago Pago   Oceania            44273   \n",
       "4   203  AND         Andorra  Andorra la Vella    Europe            79824   \n",
       "\n",
       "   2020 Population  2015 Population  2010 Population  2000 Population  \\\n",
       "0         38972230         33753499         28189672         19542982   \n",
       "1          2866849          2882481          2913399          3182021   \n",
       "2         43451666         39543154         35856344         30774621   \n",
       "3            46189            51368            54849            58230   \n",
       "4            77700            71746            71519            66097   \n",
       "\n",
       "   1990 Population  1980 Population  1970 Population    Area   Density   \\\n",
       "0         10694796         12486631         10752971   652230   63.0587   \n",
       "1          3295066          2941651          2324731    28748   98.8702   \n",
       "2         25518074         18739378         13795915  2381741   18.8531   \n",
       "3            47818            32886            27075      199  222.4774   \n",
       "4            53569            35611            19860      468  170.5641   \n",
       "\n",
       "   Growth Rate  World Population Percentage  \n",
       "0       1.0257                         0.52  \n",
       "1       0.9957                         0.04  \n",
       "2       1.0164                         0.56  \n",
       "3       0.9831                         0.00  \n",
       "4       1.0100                         0.00  "
      ]
     },
     "execution_count": 3,
     "metadata": {},
     "output_type": "execute_result"
    }
   ],
   "source": [
    "df.head()"
   ]
  },
  {
   "cell_type": "code",
   "execution_count": 4,
   "id": "0d397a24",
   "metadata": {},
   "outputs": [
    {
     "data": {
      "text/html": [
       "<div>\n",
       "<style scoped>\n",
       "    .dataframe tbody tr th:only-of-type {\n",
       "        vertical-align: middle;\n",
       "    }\n",
       "\n",
       "    .dataframe tbody tr th {\n",
       "        vertical-align: top;\n",
       "    }\n",
       "\n",
       "    .dataframe thead th {\n",
       "        text-align: right;\n",
       "    }\n",
       "</style>\n",
       "<table border=\"1\" class=\"dataframe\">\n",
       "  <thead>\n",
       "    <tr style=\"text-align: right;\">\n",
       "      <th></th>\n",
       "      <th>Rank</th>\n",
       "      <th>CCA3</th>\n",
       "      <th>Country</th>\n",
       "      <th>Capital</th>\n",
       "      <th>Continent</th>\n",
       "      <th>2022 Population</th>\n",
       "      <th>2020 Population</th>\n",
       "      <th>2015 Population</th>\n",
       "      <th>2010 Population</th>\n",
       "      <th>2000 Population</th>\n",
       "      <th>1990 Population</th>\n",
       "      <th>1980 Population</th>\n",
       "      <th>1970 Population</th>\n",
       "      <th>Area</th>\n",
       "      <th>Density</th>\n",
       "      <th>Growth Rate</th>\n",
       "      <th>World Population Percentage</th>\n",
       "    </tr>\n",
       "  </thead>\n",
       "  <tbody>\n",
       "  </tbody>\n",
       "</table>\n",
       "</div>"
      ],
      "text/plain": [
       "Empty DataFrame\n",
       "Columns: [Rank, CCA3, Country, Capital, Continent, 2022 Population, 2020 Population, 2015 Population, 2010 Population, 2000 Population, 1990 Population, 1980 Population, 1970 Population, Area , Density , Growth Rate, World Population Percentage]\n",
       "Index: []"
      ]
     },
     "execution_count": 4,
     "metadata": {},
     "output_type": "execute_result"
    }
   ],
   "source": [
    "# to check if any NaN/empty values\n",
    "df[df.isnull().any(axis=1)].head()"
   ]
  },
  {
   "cell_type": "code",
   "execution_count": 5,
   "id": "7d23474c",
   "metadata": {},
   "outputs": [
    {
     "name": "stdout",
     "output_type": "stream",
     "text": [
      "<class 'pandas.core.frame.DataFrame'>\n",
      "RangeIndex: 234 entries, 0 to 233\n",
      "Data columns (total 17 columns):\n",
      " #   Column                       Non-Null Count  Dtype  \n",
      "---  ------                       --------------  -----  \n",
      " 0   Rank                         234 non-null    int64  \n",
      " 1   CCA3                         234 non-null    object \n",
      " 2   Country                      234 non-null    object \n",
      " 3   Capital                      234 non-null    object \n",
      " 4   Continent                    234 non-null    object \n",
      " 5   2022 Population              234 non-null    int64  \n",
      " 6   2020 Population              234 non-null    int64  \n",
      " 7   2015 Population              234 non-null    int64  \n",
      " 8   2010 Population              234 non-null    int64  \n",
      " 9   2000 Population              234 non-null    int64  \n",
      " 10  1990 Population              234 non-null    int64  \n",
      " 11  1980 Population              234 non-null    int64  \n",
      " 12  1970 Population              234 non-null    int64  \n",
      " 13  Area                         234 non-null    int64  \n",
      " 14  Density                      234 non-null    float64\n",
      " 15  Growth Rate                  234 non-null    float64\n",
      " 16  World Population Percentage  234 non-null    float64\n",
      "dtypes: float64(3), int64(10), object(4)\n",
      "memory usage: 31.2+ KB\n"
     ]
    }
   ],
   "source": [
    "df.info()"
   ]
  },
  {
   "cell_type": "code",
   "execution_count": 39,
   "id": "0570b812",
   "metadata": {},
   "outputs": [
    {
     "data": {
      "text/html": [
       "<div>\n",
       "<style scoped>\n",
       "    .dataframe tbody tr th:only-of-type {\n",
       "        vertical-align: middle;\n",
       "    }\n",
       "\n",
       "    .dataframe tbody tr th {\n",
       "        vertical-align: top;\n",
       "    }\n",
       "\n",
       "    .dataframe thead th {\n",
       "        text-align: right;\n",
       "    }\n",
       "</style>\n",
       "<table border=\"1\" class=\"dataframe\">\n",
       "  <thead>\n",
       "    <tr style=\"text-align: right;\">\n",
       "      <th></th>\n",
       "      <th>Rank</th>\n",
       "      <th>2022 Population</th>\n",
       "      <th>2020 Population</th>\n",
       "      <th>2015 Population</th>\n",
       "      <th>2010 Population</th>\n",
       "      <th>2000 Population</th>\n",
       "      <th>1990 Population</th>\n",
       "      <th>1980 Population</th>\n",
       "      <th>1970 Population</th>\n",
       "      <th>Area</th>\n",
       "      <th>Density</th>\n",
       "      <th>Growth Rate</th>\n",
       "      <th>World Population Percentage</th>\n",
       "    </tr>\n",
       "  </thead>\n",
       "  <tbody>\n",
       "    <tr>\n",
       "      <th>count</th>\n",
       "      <td>234.000000</td>\n",
       "      <td>2.340000e+02</td>\n",
       "      <td>2.340000e+02</td>\n",
       "      <td>2.340000e+02</td>\n",
       "      <td>2.340000e+02</td>\n",
       "      <td>2.340000e+02</td>\n",
       "      <td>2.340000e+02</td>\n",
       "      <td>2.340000e+02</td>\n",
       "      <td>2.340000e+02</td>\n",
       "      <td>2.340000e+02</td>\n",
       "      <td>234.000000</td>\n",
       "      <td>234.000000</td>\n",
       "      <td>234.000000</td>\n",
       "    </tr>\n",
       "    <tr>\n",
       "      <th>mean</th>\n",
       "      <td>117.500000</td>\n",
       "      <td>3.407441e+07</td>\n",
       "      <td>3.350107e+07</td>\n",
       "      <td>3.172996e+07</td>\n",
       "      <td>2.984524e+07</td>\n",
       "      <td>2.626947e+07</td>\n",
       "      <td>2.271022e+07</td>\n",
       "      <td>1.898462e+07</td>\n",
       "      <td>1.578691e+07</td>\n",
       "      <td>5.814494e+05</td>\n",
       "      <td>452.127044</td>\n",
       "      <td>1.009577</td>\n",
       "      <td>0.427051</td>\n",
       "    </tr>\n",
       "    <tr>\n",
       "      <th>std</th>\n",
       "      <td>67.694165</td>\n",
       "      <td>1.367664e+08</td>\n",
       "      <td>1.355899e+08</td>\n",
       "      <td>1.304050e+08</td>\n",
       "      <td>1.242185e+08</td>\n",
       "      <td>1.116982e+08</td>\n",
       "      <td>9.783217e+07</td>\n",
       "      <td>8.178519e+07</td>\n",
       "      <td>6.779509e+07</td>\n",
       "      <td>1.761841e+06</td>\n",
       "      <td>2066.121904</td>\n",
       "      <td>0.013385</td>\n",
       "      <td>1.714977</td>\n",
       "    </tr>\n",
       "    <tr>\n",
       "      <th>min</th>\n",
       "      <td>1.000000</td>\n",
       "      <td>5.100000e+02</td>\n",
       "      <td>5.200000e+02</td>\n",
       "      <td>5.640000e+02</td>\n",
       "      <td>5.960000e+02</td>\n",
       "      <td>6.510000e+02</td>\n",
       "      <td>7.000000e+02</td>\n",
       "      <td>7.330000e+02</td>\n",
       "      <td>7.520000e+02</td>\n",
       "      <td>1.000000e+00</td>\n",
       "      <td>0.026100</td>\n",
       "      <td>0.912000</td>\n",
       "      <td>0.000000</td>\n",
       "    </tr>\n",
       "    <tr>\n",
       "      <th>25%</th>\n",
       "      <td>59.250000</td>\n",
       "      <td>4.197385e+05</td>\n",
       "      <td>4.152845e+05</td>\n",
       "      <td>4.046760e+05</td>\n",
       "      <td>3.931490e+05</td>\n",
       "      <td>3.272420e+05</td>\n",
       "      <td>2.641158e+05</td>\n",
       "      <td>2.296142e+05</td>\n",
       "      <td>1.559970e+05</td>\n",
       "      <td>2.650000e+03</td>\n",
       "      <td>38.417875</td>\n",
       "      <td>1.001775</td>\n",
       "      <td>0.010000</td>\n",
       "    </tr>\n",
       "    <tr>\n",
       "      <th>50%</th>\n",
       "      <td>117.500000</td>\n",
       "      <td>5.559944e+06</td>\n",
       "      <td>5.493074e+06</td>\n",
       "      <td>5.307400e+06</td>\n",
       "      <td>4.942770e+06</td>\n",
       "      <td>4.292907e+06</td>\n",
       "      <td>3.825410e+06</td>\n",
       "      <td>3.141146e+06</td>\n",
       "      <td>2.604830e+06</td>\n",
       "      <td>8.119950e+04</td>\n",
       "      <td>95.346750</td>\n",
       "      <td>1.007900</td>\n",
       "      <td>0.070000</td>\n",
       "    </tr>\n",
       "    <tr>\n",
       "      <th>75%</th>\n",
       "      <td>175.750000</td>\n",
       "      <td>2.247650e+07</td>\n",
       "      <td>2.144798e+07</td>\n",
       "      <td>1.973085e+07</td>\n",
       "      <td>1.915957e+07</td>\n",
       "      <td>1.576230e+07</td>\n",
       "      <td>1.186923e+07</td>\n",
       "      <td>9.826054e+06</td>\n",
       "      <td>8.817329e+06</td>\n",
       "      <td>4.304258e+05</td>\n",
       "      <td>238.933250</td>\n",
       "      <td>1.016950</td>\n",
       "      <td>0.280000</td>\n",
       "    </tr>\n",
       "    <tr>\n",
       "      <th>max</th>\n",
       "      <td>234.000000</td>\n",
       "      <td>1.425887e+09</td>\n",
       "      <td>1.424930e+09</td>\n",
       "      <td>1.393715e+09</td>\n",
       "      <td>1.348191e+09</td>\n",
       "      <td>1.264099e+09</td>\n",
       "      <td>1.153704e+09</td>\n",
       "      <td>9.823725e+08</td>\n",
       "      <td>8.225344e+08</td>\n",
       "      <td>1.709824e+07</td>\n",
       "      <td>23172.266700</td>\n",
       "      <td>1.069100</td>\n",
       "      <td>17.880000</td>\n",
       "    </tr>\n",
       "  </tbody>\n",
       "</table>\n",
       "</div>"
      ],
      "text/plain": [
       "             Rank  2022 Population  2020 Population  2015 Population  \\\n",
       "count  234.000000     2.340000e+02     2.340000e+02     2.340000e+02   \n",
       "mean   117.500000     3.407441e+07     3.350107e+07     3.172996e+07   \n",
       "std     67.694165     1.367664e+08     1.355899e+08     1.304050e+08   \n",
       "min      1.000000     5.100000e+02     5.200000e+02     5.640000e+02   \n",
       "25%     59.250000     4.197385e+05     4.152845e+05     4.046760e+05   \n",
       "50%    117.500000     5.559944e+06     5.493074e+06     5.307400e+06   \n",
       "75%    175.750000     2.247650e+07     2.144798e+07     1.973085e+07   \n",
       "max    234.000000     1.425887e+09     1.424930e+09     1.393715e+09   \n",
       "\n",
       "       2010 Population  2000 Population  1990 Population  1980 Population  \\\n",
       "count     2.340000e+02     2.340000e+02     2.340000e+02     2.340000e+02   \n",
       "mean      2.984524e+07     2.626947e+07     2.271022e+07     1.898462e+07   \n",
       "std       1.242185e+08     1.116982e+08     9.783217e+07     8.178519e+07   \n",
       "min       5.960000e+02     6.510000e+02     7.000000e+02     7.330000e+02   \n",
       "25%       3.931490e+05     3.272420e+05     2.641158e+05     2.296142e+05   \n",
       "50%       4.942770e+06     4.292907e+06     3.825410e+06     3.141146e+06   \n",
       "75%       1.915957e+07     1.576230e+07     1.186923e+07     9.826054e+06   \n",
       "max       1.348191e+09     1.264099e+09     1.153704e+09     9.823725e+08   \n",
       "\n",
       "       1970 Population         Area       Density   Growth Rate  \\\n",
       "count     2.340000e+02  2.340000e+02    234.000000   234.000000   \n",
       "mean      1.578691e+07  5.814494e+05    452.127044     1.009577   \n",
       "std       6.779509e+07  1.761841e+06   2066.121904     0.013385   \n",
       "min       7.520000e+02  1.000000e+00      0.026100     0.912000   \n",
       "25%       1.559970e+05  2.650000e+03     38.417875     1.001775   \n",
       "50%       2.604830e+06  8.119950e+04     95.346750     1.007900   \n",
       "75%       8.817329e+06  4.304258e+05    238.933250     1.016950   \n",
       "max       8.225344e+08  1.709824e+07  23172.266700     1.069100   \n",
       "\n",
       "       World Population Percentage  \n",
       "count                   234.000000  \n",
       "mean                      0.427051  \n",
       "std                       1.714977  \n",
       "min                       0.000000  \n",
       "25%                       0.010000  \n",
       "50%                       0.070000  \n",
       "75%                       0.280000  \n",
       "max                      17.880000  "
      ]
     },
     "execution_count": 39,
     "metadata": {},
     "output_type": "execute_result"
    }
   ],
   "source": [
    "df.describe()"
   ]
  },
  {
   "cell_type": "code",
   "execution_count": 6,
   "id": "25d1d6ed",
   "metadata": {},
   "outputs": [
    {
     "data": {
      "text/plain": [
       "<AxesSubplot:xlabel='Country', ylabel='count'>"
      ]
     },
     "execution_count": 6,
     "metadata": {},
     "output_type": "execute_result"
    },
    {
     "data": {
      "image/png": "[encoded data removed]",
      "text/plain": [
       "<Figure size 432x288 with 1 Axes>"
      ]
     },
     "metadata": {
      "needs_background": "light"
     },
     "output_type": "display_data"
    }
   ],
   "source": [
    "#plotting the counter plot using seaborn data visualisation \n",
    "sns.countplot(x = 'Country' ,data = df)\n"
   ]
  },
  {
   "cell_type": "code",
   "execution_count": 21,
   "id": "0c594d41",
   "metadata": {},
   "outputs": [
    {
     "data": {
      "text/plain": [
       "<AxesSubplot:xlabel='Country', ylabel='Rank'>"
      ]
     },
     "execution_count": 21,
     "metadata": {},
     "output_type": "execute_result"
    },
    {
     "data": {
      "image/png": "[encoded data removed]",
      "text/plain": [
       "<Figure size 432x288 with 1 Axes>"
      ]
     },
     "metadata": {
      "needs_background": "light"
     },
     "output_type": "display_data"
    }
   ],
   "source": [
    "\n",
    "\n",
    "sns.barplot(y = df['Rank'],x = df['Country'])\n",
    "\n",
    "\n",
    "\n",
    "\n"
   ]
  },
  {
   "cell_type": "code",
   "execution_count": 35,
   "id": "904a206c",
   "metadata": {},
   "outputs": [
    {
     "name": "stderr",
     "output_type": "stream",
     "text": [
      "/Users/harishmateti/opt/anaconda3/lib/python3.9/site-packages/seaborn/_decorators.py:36: FutureWarning: Pass the following variables as keyword args: x, y. From version 0.12, the only valid positional argument will be `data`, and passing other arguments without an explicit keyword will result in an error or misinterpretation.\n",
      "  warnings.warn(\n"
     ]
    },
    {
     "data": {
      "text/plain": [
       "<AxesSubplot:xlabel='Country', ylabel='Rank'>"
      ]
     },
     "execution_count": 35,
     "metadata": {},
     "output_type": "execute_result"
    },
    {
     "data": {
      "image/png": "[encoded data removed]",
      "text/plain": [
       "<Figure size 432x288 with 1 Axes>"
      ]
     },
     "metadata": {
      "needs_background": "light"
     },
     "output_type": "display_data"
    }
   ],
   "source": [
    "#plotting the box plot \n",
    "sns.boxplot( df['Country'],df['Rank'])\n"
   ]
  },
  {
   "cell_type": "markdown",
   "id": "3bb6d642",
   "metadata": {},
   "source": [
    "# Question 2"
   ]
  },
  {
   "cell_type": "code",
   "execution_count": 13,
   "id": "f8d2094a",
   "metadata": {},
   "outputs": [
    {
     "data": {
      "text/plain": [
       "<BarContainer object of 234 artists>"
      ]
     },
     "execution_count": 13,
     "metadata": {},
     "output_type": "execute_result"
    },
    {
     "data": {
      "image/png": "[encoded data removed]",
      "text/plain": [
       "<Figure size 432x288 with 1 Axes>"
      ]
     },
     "metadata": {
      "needs_background": "light"
     },
     "output_type": "display_data"
    }
   ],
   "source": [
    "\n",
    "plt.bar(df['Country'],df['Rank'])"
   ]
  },
  {
   "cell_type": "code",
   "execution_count": 14,
   "id": "e6cdbb54",
   "metadata": {},
   "outputs": [],
   "source": [
    "population = pd.pivot_table(df,index ='Country' , values = 'Rank')"
   ]
  },
  {
   "cell_type": "code",
   "execution_count": 16,
   "id": "58e7ce37",
   "metadata": {},
   "outputs": [
    {
     "data": {
      "text/html": [
       "<div>\n",
       "<style scoped>\n",
       "    .dataframe tbody tr th:only-of-type {\n",
       "        vertical-align: middle;\n",
       "    }\n",
       "\n",
       "    .dataframe tbody tr th {\n",
       "        vertical-align: top;\n",
       "    }\n",
       "\n",
       "    .dataframe thead th {\n",
       "        text-align: right;\n",
       "    }\n",
       "</style>\n",
       "<table border=\"1\" class=\"dataframe\">\n",
       "  <thead>\n",
       "    <tr style=\"text-align: right;\">\n",
       "      <th></th>\n",
       "      <th>Rank</th>\n",
       "    </tr>\n",
       "    <tr>\n",
       "      <th>Country</th>\n",
       "      <th></th>\n",
       "    </tr>\n",
       "  </thead>\n",
       "  <tbody>\n",
       "    <tr>\n",
       "      <th>Afghanistan</th>\n",
       "      <td>36</td>\n",
       "    </tr>\n",
       "    <tr>\n",
       "      <th>Albania</th>\n",
       "      <td>138</td>\n",
       "    </tr>\n",
       "    <tr>\n",
       "      <th>Algeria</th>\n",
       "      <td>34</td>\n",
       "    </tr>\n",
       "    <tr>\n",
       "      <th>American Samoa</th>\n",
       "      <td>213</td>\n",
       "    </tr>\n",
       "    <tr>\n",
       "      <th>Andorra</th>\n",
       "      <td>203</td>\n",
       "    </tr>\n",
       "    <tr>\n",
       "      <th>...</th>\n",
       "      <td>...</td>\n",
       "    </tr>\n",
       "    <tr>\n",
       "      <th>Wallis and Futuna</th>\n",
       "      <td>226</td>\n",
       "    </tr>\n",
       "    <tr>\n",
       "      <th>Western Sahara</th>\n",
       "      <td>172</td>\n",
       "    </tr>\n",
       "    <tr>\n",
       "      <th>Yemen</th>\n",
       "      <td>46</td>\n",
       "    </tr>\n",
       "    <tr>\n",
       "      <th>Zambia</th>\n",
       "      <td>63</td>\n",
       "    </tr>\n",
       "    <tr>\n",
       "      <th>Zimbabwe</th>\n",
       "      <td>74</td>\n",
       "    </tr>\n",
       "  </tbody>\n",
       "</table>\n",
       "<p>234 rows × 1 columns</p>\n",
       "</div>"
      ],
      "text/plain": [
       "                   Rank\n",
       "Country                \n",
       "Afghanistan          36\n",
       "Albania             138\n",
       "Algeria              34\n",
       "American Samoa      213\n",
       "Andorra             203\n",
       "...                 ...\n",
       "Wallis and Futuna   226\n",
       "Western Sahara      172\n",
       "Yemen                46\n",
       "Zambia               63\n",
       "Zimbabwe             74\n",
       "\n",
       "[234 rows x 1 columns]"
      ]
     },
     "execution_count": 16,
     "metadata": {},
     "output_type": "execute_result"
    }
   ],
   "source": [
    "population"
   ]
  },
  {
   "cell_type": "code",
   "execution_count": 41,
   "id": "f28996fb",
   "metadata": {},
   "outputs": [
    {
     "data": {
      "text/plain": [
       "array([[<AxesSubplot:title={'center':'Rank'}>,\n",
       "        <AxesSubplot:title={'center':'2022 Population'}>,\n",
       "        <AxesSubplot:title={'center':'2020 Population'}>,\n",
       "        <AxesSubplot:title={'center':'2015 Population'}>],\n",
       "       [<AxesSubplot:title={'center':'2010 Population'}>,\n",
       "        <AxesSubplot:title={'center':'2000 Population'}>,\n",
       "        <AxesSubplot:title={'center':'1990 Population'}>,\n",
       "        <AxesSubplot:title={'center':'1980 Population'}>],\n",
       "       [<AxesSubplot:title={'center':'1970 Population'}>,\n",
       "        <AxesSubplot:title={'center':'Area '}>,\n",
       "        <AxesSubplot:title={'center':'Density '}>,\n",
       "        <AxesSubplot:title={'center':'Growth Rate'}>],\n",
       "       [<AxesSubplot:title={'center':'World Population Percentage'}>,\n",
       "        <AxesSubplot:>, <AxesSubplot:>, <AxesSubplot:>]], dtype=object)"
      ]
     },
     "execution_count": 41,
     "metadata": {},
     "output_type": "execute_result"
    },
    {
     "data": {
      "image/png": "[encoded data removed]",
      "text/plain": [
       "<Figure size 432x288 with 16 Axes>"
      ]
     },
     "metadata": {
      "needs_background": "light"
     },
     "output_type": "display_data"
    }
   ],
   "source": [
    "df.hist()"
   ]
  },
  {
   "cell_type": "code",
   "execution_count": 42,
   "id": "a210a687",
   "metadata": {},
   "outputs": [
    {
     "data": {
      "text/html": [
       "<div>\n",
       "<style scoped>\n",
       "    .dataframe tbody tr th:only-of-type {\n",
       "        vertical-align: middle;\n",
       "    }\n",
       "\n",
       "    .dataframe tbody tr th {\n",
       "        vertical-align: top;\n",
       "    }\n",
       "\n",
       "    .dataframe thead th {\n",
       "        text-align: right;\n",
       "    }\n",
       "</style>\n",
       "<table border=\"1\" class=\"dataframe\">\n",
       "  <thead>\n",
       "    <tr style=\"text-align: right;\">\n",
       "      <th></th>\n",
       "      <th>Rank</th>\n",
       "      <th>2022 Population</th>\n",
       "      <th>2020 Population</th>\n",
       "      <th>2015 Population</th>\n",
       "      <th>2010 Population</th>\n",
       "      <th>2000 Population</th>\n",
       "      <th>1990 Population</th>\n",
       "      <th>1980 Population</th>\n",
       "      <th>1970 Population</th>\n",
       "      <th>Area</th>\n",
       "      <th>Density</th>\n",
       "      <th>Growth Rate</th>\n",
       "      <th>World Population Percentage</th>\n",
       "    </tr>\n",
       "  </thead>\n",
       "  <tbody>\n",
       "    <tr>\n",
       "      <th>Rank</th>\n",
       "      <td>1.000000</td>\n",
       "      <td>-0.358361</td>\n",
       "      <td>-0.355854</td>\n",
       "      <td>-0.351222</td>\n",
       "      <td>-0.347461</td>\n",
       "      <td>-0.341057</td>\n",
       "      <td>-0.336152</td>\n",
       "      <td>-0.335246</td>\n",
       "      <td>-0.335379</td>\n",
       "      <td>-0.383774</td>\n",
       "      <td>0.129436</td>\n",
       "      <td>-0.224561</td>\n",
       "      <td>-0.358464</td>\n",
       "    </tr>\n",
       "    <tr>\n",
       "      <th>2022 Population</th>\n",
       "      <td>-0.358361</td>\n",
       "      <td>1.000000</td>\n",
       "      <td>0.999946</td>\n",
       "      <td>0.999490</td>\n",
       "      <td>0.998629</td>\n",
       "      <td>0.994605</td>\n",
       "      <td>0.987228</td>\n",
       "      <td>0.980285</td>\n",
       "      <td>0.973162</td>\n",
       "      <td>0.453411</td>\n",
       "      <td>-0.027618</td>\n",
       "      <td>-0.020863</td>\n",
       "      <td>0.999999</td>\n",
       "    </tr>\n",
       "    <tr>\n",
       "      <th>2020 Population</th>\n",
       "      <td>-0.355854</td>\n",
       "      <td>0.999946</td>\n",
       "      <td>1.000000</td>\n",
       "      <td>0.999763</td>\n",
       "      <td>0.999105</td>\n",
       "      <td>0.995583</td>\n",
       "      <td>0.988724</td>\n",
       "      <td>0.982121</td>\n",
       "      <td>0.975254</td>\n",
       "      <td>0.454993</td>\n",
       "      <td>-0.027358</td>\n",
       "      <td>-0.025116</td>\n",
       "      <td>0.999944</td>\n",
       "    </tr>\n",
       "    <tr>\n",
       "      <th>2015 Population</th>\n",
       "      <td>-0.351222</td>\n",
       "      <td>0.999490</td>\n",
       "      <td>0.999763</td>\n",
       "      <td>1.000000</td>\n",
       "      <td>0.999783</td>\n",
       "      <td>0.997340</td>\n",
       "      <td>0.991594</td>\n",
       "      <td>0.985724</td>\n",
       "      <td>0.979414</td>\n",
       "      <td>0.458240</td>\n",
       "      <td>-0.026857</td>\n",
       "      <td>-0.032154</td>\n",
       "      <td>0.999487</td>\n",
       "    </tr>\n",
       "    <tr>\n",
       "      <th>2010 Population</th>\n",
       "      <td>-0.347461</td>\n",
       "      <td>0.998629</td>\n",
       "      <td>0.999105</td>\n",
       "      <td>0.999783</td>\n",
       "      <td>1.000000</td>\n",
       "      <td>0.998593</td>\n",
       "      <td>0.993929</td>\n",
       "      <td>0.988786</td>\n",
       "      <td>0.983042</td>\n",
       "      <td>0.461936</td>\n",
       "      <td>-0.026505</td>\n",
       "      <td>-0.037983</td>\n",
       "      <td>0.998626</td>\n",
       "    </tr>\n",
       "    <tr>\n",
       "      <th>2000 Population</th>\n",
       "      <td>-0.341057</td>\n",
       "      <td>0.994605</td>\n",
       "      <td>0.995583</td>\n",
       "      <td>0.997340</td>\n",
       "      <td>0.998593</td>\n",
       "      <td>1.000000</td>\n",
       "      <td>0.998336</td>\n",
       "      <td>0.995160</td>\n",
       "      <td>0.990956</td>\n",
       "      <td>0.473933</td>\n",
       "      <td>-0.026139</td>\n",
       "      <td>-0.050515</td>\n",
       "      <td>0.994598</td>\n",
       "    </tr>\n",
       "    <tr>\n",
       "      <th>1990 Population</th>\n",
       "      <td>-0.336152</td>\n",
       "      <td>0.987228</td>\n",
       "      <td>0.988724</td>\n",
       "      <td>0.991594</td>\n",
       "      <td>0.993929</td>\n",
       "      <td>0.998336</td>\n",
       "      <td>1.000000</td>\n",
       "      <td>0.999042</td>\n",
       "      <td>0.996602</td>\n",
       "      <td>0.486764</td>\n",
       "      <td>-0.026224</td>\n",
       "      <td>-0.062397</td>\n",
       "      <td>0.987218</td>\n",
       "    </tr>\n",
       "    <tr>\n",
       "      <th>1980 Population</th>\n",
       "      <td>-0.335246</td>\n",
       "      <td>0.980285</td>\n",
       "      <td>0.982121</td>\n",
       "      <td>0.985724</td>\n",
       "      <td>0.988786</td>\n",
       "      <td>0.995160</td>\n",
       "      <td>0.999042</td>\n",
       "      <td>1.000000</td>\n",
       "      <td>0.999194</td>\n",
       "      <td>0.498166</td>\n",
       "      <td>-0.026587</td>\n",
       "      <td>-0.072349</td>\n",
       "      <td>0.980273</td>\n",
       "    </tr>\n",
       "    <tr>\n",
       "      <th>1970 Population</th>\n",
       "      <td>-0.335379</td>\n",
       "      <td>0.973162</td>\n",
       "      <td>0.975254</td>\n",
       "      <td>0.979414</td>\n",
       "      <td>0.983042</td>\n",
       "      <td>0.990956</td>\n",
       "      <td>0.996602</td>\n",
       "      <td>0.999194</td>\n",
       "      <td>1.000000</td>\n",
       "      <td>0.509940</td>\n",
       "      <td>-0.026881</td>\n",
       "      <td>-0.081313</td>\n",
       "      <td>0.973150</td>\n",
       "    </tr>\n",
       "    <tr>\n",
       "      <th>Area</th>\n",
       "      <td>-0.383774</td>\n",
       "      <td>0.453411</td>\n",
       "      <td>0.454993</td>\n",
       "      <td>0.458240</td>\n",
       "      <td>0.461936</td>\n",
       "      <td>0.473933</td>\n",
       "      <td>0.486764</td>\n",
       "      <td>0.498166</td>\n",
       "      <td>0.509940</td>\n",
       "      <td>1.000000</td>\n",
       "      <td>-0.063128</td>\n",
       "      <td>-0.013970</td>\n",
       "      <td>0.453284</td>\n",
       "    </tr>\n",
       "    <tr>\n",
       "      <th>Density</th>\n",
       "      <td>0.129436</td>\n",
       "      <td>-0.027618</td>\n",
       "      <td>-0.027358</td>\n",
       "      <td>-0.026857</td>\n",
       "      <td>-0.026505</td>\n",
       "      <td>-0.026139</td>\n",
       "      <td>-0.026224</td>\n",
       "      <td>-0.026587</td>\n",
       "      <td>-0.026881</td>\n",
       "      <td>-0.063128</td>\n",
       "      <td>1.000000</td>\n",
       "      <td>-0.069753</td>\n",
       "      <td>-0.027646</td>\n",
       "    </tr>\n",
       "    <tr>\n",
       "      <th>Growth Rate</th>\n",
       "      <td>-0.224561</td>\n",
       "      <td>-0.020863</td>\n",
       "      <td>-0.025116</td>\n",
       "      <td>-0.032154</td>\n",
       "      <td>-0.037983</td>\n",
       "      <td>-0.050515</td>\n",
       "      <td>-0.062397</td>\n",
       "      <td>-0.072349</td>\n",
       "      <td>-0.081313</td>\n",
       "      <td>-0.013970</td>\n",
       "      <td>-0.069753</td>\n",
       "      <td>1.000000</td>\n",
       "      <td>-0.020930</td>\n",
       "    </tr>\n",
       "    <tr>\n",
       "      <th>World Population Percentage</th>\n",
       "      <td>-0.358464</td>\n",
       "      <td>0.999999</td>\n",
       "      <td>0.999944</td>\n",
       "      <td>0.999487</td>\n",
       "      <td>0.998626</td>\n",
       "      <td>0.994598</td>\n",
       "      <td>0.987218</td>\n",
       "      <td>0.980273</td>\n",
       "      <td>0.973150</td>\n",
       "      <td>0.453284</td>\n",
       "      <td>-0.027646</td>\n",
       "      <td>-0.020930</td>\n",
       "      <td>1.000000</td>\n",
       "    </tr>\n",
       "  </tbody>\n",
       "</table>\n",
       "</div>"
      ],
      "text/plain": [
       "                                 Rank  2022 Population  2020 Population  \\\n",
       "Rank                         1.000000        -0.358361        -0.355854   \n",
       "2022 Population             -0.358361         1.000000         0.999946   \n",
       "2020 Population             -0.355854         0.999946         1.000000   \n",
       "2015 Population             -0.351222         0.999490         0.999763   \n",
       "2010 Population             -0.347461         0.998629         0.999105   \n",
       "2000 Population             -0.341057         0.994605         0.995583   \n",
       "1990 Population             -0.336152         0.987228         0.988724   \n",
       "1980 Population             -0.335246         0.980285         0.982121   \n",
       "1970 Population             -0.335379         0.973162         0.975254   \n",
       "Area                        -0.383774         0.453411         0.454993   \n",
       "Density                      0.129436        -0.027618        -0.027358   \n",
       "Growth Rate                 -0.224561        -0.020863        -0.025116   \n",
       "World Population Percentage -0.358464         0.999999         0.999944   \n",
       "\n",
       "                             2015 Population  2010 Population  \\\n",
       "Rank                               -0.351222        -0.347461   \n",
       "2022 Population                     0.999490         0.998629   \n",
       "2020 Population                     0.999763         0.999105   \n",
       "2015 Population                     1.000000         0.999783   \n",
       "2010 Population                     0.999783         1.000000   \n",
       "2000 Population                     0.997340         0.998593   \n",
       "1990 Population                     0.991594         0.993929   \n",
       "1980 Population                     0.985724         0.988786   \n",
       "1970 Population                     0.979414         0.983042   \n",
       "Area                                0.458240         0.461936   \n",
       "Density                            -0.026857        -0.026505   \n",
       "Growth Rate                        -0.032154        -0.037983   \n",
       "World Population Percentage         0.999487         0.998626   \n",
       "\n",
       "                             2000 Population  1990 Population  \\\n",
       "Rank                               -0.341057        -0.336152   \n",
       "2022 Population                     0.994605         0.987228   \n",
       "2020 Population                     0.995583         0.988724   \n",
       "2015 Population                     0.997340         0.991594   \n",
       "2010 Population                     0.998593         0.993929   \n",
       "2000 Population                     1.000000         0.998336   \n",
       "1990 Population                     0.998336         1.000000   \n",
       "1980 Population                     0.995160         0.999042   \n",
       "1970 Population                     0.990956         0.996602   \n",
       "Area                                0.473933         0.486764   \n",
       "Density                            -0.026139        -0.026224   \n",
       "Growth Rate                        -0.050515        -0.062397   \n",
       "World Population Percentage         0.994598         0.987218   \n",
       "\n",
       "                             1980 Population  1970 Population     Area   \\\n",
       "Rank                               -0.335246        -0.335379 -0.383774   \n",
       "2022 Population                     0.980285         0.973162  0.453411   \n",
       "2020 Population                     0.982121         0.975254  0.454993   \n",
       "2015 Population                     0.985724         0.979414  0.458240   \n",
       "2010 Population                     0.988786         0.983042  0.461936   \n",
       "2000 Population                     0.995160         0.990956  0.473933   \n",
       "1990 Population                     0.999042         0.996602  0.486764   \n",
       "1980 Population                     1.000000         0.999194  0.498166   \n",
       "1970 Population                     0.999194         1.000000  0.509940   \n",
       "Area                                0.498166         0.509940  1.000000   \n",
       "Density                            -0.026587        -0.026881 -0.063128   \n",
       "Growth Rate                        -0.072349        -0.081313 -0.013970   \n",
       "World Population Percentage         0.980273         0.973150  0.453284   \n",
       "\n",
       "                             Density   Growth Rate  \\\n",
       "Rank                         0.129436    -0.224561   \n",
       "2022 Population             -0.027618    -0.020863   \n",
       "2020 Population             -0.027358    -0.025116   \n",
       "2015 Population             -0.026857    -0.032154   \n",
       "2010 Population             -0.026505    -0.037983   \n",
       "2000 Population             -0.026139    -0.050515   \n",
       "1990 Population             -0.026224    -0.062397   \n",
       "1980 Population             -0.026587    -0.072349   \n",
       "1970 Population             -0.026881    -0.081313   \n",
       "Area                        -0.063128    -0.013970   \n",
       "Density                      1.000000    -0.069753   \n",
       "Growth Rate                 -0.069753     1.000000   \n",
       "World Population Percentage -0.027646    -0.020930   \n",
       "\n",
       "                             World Population Percentage  \n",
       "Rank                                           -0.358464  \n",
       "2022 Population                                 0.999999  \n",
       "2020 Population                                 0.999944  \n",
       "2015 Population                                 0.999487  \n",
       "2010 Population                                 0.998626  \n",
       "2000 Population                                 0.994598  \n",
       "1990 Population                                 0.987218  \n",
       "1980 Population                                 0.980273  \n",
       "1970 Population                                 0.973150  \n",
       "Area                                            0.453284  \n",
       "Density                                        -0.027646  \n",
       "Growth Rate                                    -0.020930  \n",
       "World Population Percentage                     1.000000  "
      ]
     },
     "execution_count": 42,
     "metadata": {},
     "output_type": "execute_result"
    }
   ],
   "source": [
    "# finding correlated values\n",
    "\n",
    "correlation = df.corr()\n",
    "correlation"
   ]
  },
  {
   "cell_type": "code",
   "execution_count": 37,
   "id": "f3b4d0cd",
   "metadata": {},
   "outputs": [
    {
     "data": {
      "text/plain": [
       "<AxesSubplot:>"
      ]
     },
     "execution_count": 37,
     "metadata": {},
     "output_type": "execute_result"
    },
    {
     "data": {
      "image/png": "[encoded data removed]",
      "text/plain": [
       "<Figure size 432x288 with 2 Axes>"
      ]
     },
     "metadata": {
      "needs_background": "light"
     },
     "output_type": "display_data"
    }
   ],
   "source": [
    "sns.heatmap(corr)"
   ]
  },
  {
   "cell_type": "code",
   "execution_count": 43,
   "id": "3cf3e6fe",
   "metadata": {},
   "outputs": [],
   "source": [
    "# # Question 3\n",
    "\n",
    "google = pd.read_csv(\"Google.csv\")"
   ]
  },
  {
   "cell_type": "code",
   "execution_count": 45,
   "id": "587460c7",
   "metadata": {},
   "outputs": [
    {
     "data": {
      "text/html": [
       "<div>\n",
       "<style scoped>\n",
       "    .dataframe tbody tr th:only-of-type {\n",
       "        vertical-align: middle;\n",
       "    }\n",
       "\n",
       "    .dataframe tbody tr th {\n",
       "        vertical-align: top;\n",
       "    }\n",
       "\n",
       "    .dataframe thead th {\n",
       "        text-align: right;\n",
       "    }\n",
       "</style>\n",
       "<table border=\"1\" class=\"dataframe\">\n",
       "  <thead>\n",
       "    <tr style=\"text-align: right;\">\n",
       "      <th></th>\n",
       "      <th>Date</th>\n",
       "      <th>Open</th>\n",
       "      <th>High</th>\n",
       "      <th>Low</th>\n",
       "      <th>Close</th>\n",
       "      <th>Adj Close</th>\n",
       "      <th>Volume</th>\n",
       "    </tr>\n",
       "  </thead>\n",
       "  <tbody>\n",
       "    <tr>\n",
       "      <th>0</th>\n",
       "      <td>2021-09-07</td>\n",
       "      <td>144.749496</td>\n",
       "      <td>145.824005</td>\n",
       "      <td>144.541000</td>\n",
       "      <td>145.518997</td>\n",
       "      <td>145.518997</td>\n",
       "      <td>15170000</td>\n",
       "    </tr>\n",
       "    <tr>\n",
       "      <th>1</th>\n",
       "      <td>2021-09-08</td>\n",
       "      <td>145.393494</td>\n",
       "      <td>145.550995</td>\n",
       "      <td>144.199997</td>\n",
       "      <td>144.883499</td>\n",
       "      <td>144.883499</td>\n",
       "      <td>15486000</td>\n",
       "    </tr>\n",
       "    <tr>\n",
       "      <th>2</th>\n",
       "      <td>2021-09-09</td>\n",
       "      <td>144.883499</td>\n",
       "      <td>145.669495</td>\n",
       "      <td>144.434006</td>\n",
       "      <td>144.913498</td>\n",
       "      <td>144.913498</td>\n",
       "      <td>14798000</td>\n",
       "    </tr>\n",
       "    <tr>\n",
       "      <th>3</th>\n",
       "      <td>2021-09-10</td>\n",
       "      <td>145.443497</td>\n",
       "      <td>146.018997</td>\n",
       "      <td>141.741501</td>\n",
       "      <td>141.921005</td>\n",
       "      <td>141.921005</td>\n",
       "      <td>32896000</td>\n",
       "    </tr>\n",
       "    <tr>\n",
       "      <th>4</th>\n",
       "      <td>2021-09-13</td>\n",
       "      <td>143.201004</td>\n",
       "      <td>144.190994</td>\n",
       "      <td>142.282501</td>\n",
       "      <td>143.464996</td>\n",
       "      <td>143.464996</td>\n",
       "      <td>20176000</td>\n",
       "    </tr>\n",
       "  </tbody>\n",
       "</table>\n",
       "</div>"
      ],
      "text/plain": [
       "         Date        Open        High         Low       Close   Adj Close  \\\n",
       "0  2021-09-07  144.749496  145.824005  144.541000  145.518997  145.518997   \n",
       "1  2021-09-08  145.393494  145.550995  144.199997  144.883499  144.883499   \n",
       "2  2021-09-09  144.883499  145.669495  144.434006  144.913498  144.913498   \n",
       "3  2021-09-10  145.443497  146.018997  141.741501  141.921005  141.921005   \n",
       "4  2021-09-13  143.201004  144.190994  142.282501  143.464996  143.464996   \n",
       "\n",
       "     Volume  \n",
       "0  15170000  \n",
       "1  15486000  \n",
       "2  14798000  \n",
       "3  32896000  \n",
       "4  20176000  "
      ]
     },
     "execution_count": 45,
     "metadata": {},
     "output_type": "execute_result"
    }
   ],
   "source": [
    "google.head()\n"
   ]
  },
  {
   "cell_type": "code",
   "execution_count": 52,
   "id": "ac3774d9",
   "metadata": {},
   "outputs": [],
   "source": [
    "x = google['Date']\n",
    "y = google[\"Close\"]\n"
   ]
  },
  {
   "cell_type": "code",
   "execution_count": 53,
   "id": "5c0a52b3",
   "metadata": {},
   "outputs": [
    {
     "data": {
      "text/plain": [
       "[<matplotlib.lines.Line2D at 0x7fab66a6dc70>]"
      ]
     },
     "execution_count": 53,
     "metadata": {},
     "output_type": "execute_result"
    },
    {
     "data": {
      "image/png": "[encoded data removed]",
      "text/plain": [
       "<Figure size 432x288 with 1 Axes>"
      ]
     },
     "metadata": {
      "needs_background": "light"
     },
     "output_type": "display_data"
    }
   ],
   "source": [
    "plt.plot(x,y)"
   ]
  },
  {
   "cell_type": "code",
   "execution_count": 65,
   "id": "eac0896d",
   "metadata": {},
   "outputs": [
    {
     "data": {
      "text/plain": [
       "<AxesSubplot:>"
      ]
     },
     "execution_count": 65,
     "metadata": {},
     "output_type": "execute_result"
    },
    {
     "data": {
      "image/png": "[encoded data removed]",
      "text/plain": [
       "<Figure size 432x288 with 1 Axes>"
      ]
     },
     "metadata": {
      "needs_background": "light"
     },
     "output_type": "display_data"
    }
   ],
   "source": [
    "google.plot()"
   ]
  },
  {
   "cell_type": "code",
   "execution_count": 66,
   "id": "0ba259ee",
   "metadata": {},
   "outputs": [
    {
     "data": {
      "text/plain": [
       "<AxesSubplot:>"
      ]
     },
     "execution_count": 66,
     "metadata": {},
     "output_type": "execute_result"
    },
    {
     "data": {
      "image/png": "[encoded data removed]",
      "text/plain": [
       "<Figure size 432x288 with 1 Axes>"
      ]
     },
     "metadata": {
      "needs_background": "light"
     },
     "output_type": "display_data"
    }
   ],
   "source": [
    "google.plot(label='opening of stocks')"
   ]
  },
  {
   "cell_type": "code",
   "execution_count": 68,
   "id": "c18ddfe9",
   "metadata": {},
   "outputs": [
    {
     "data": {
      "text/plain": [
       "<matplotlib.legend.Legend at 0x7fab6a094730>"
      ]
     },
     "execution_count": 68,
     "metadata": {},
     "output_type": "execute_result"
    },
    {
     "data": {
      "image/png": "[encoded data removed]",
      "text/plain": [
       "<Figure size 432x288 with 1 Axes>"
      ]
     },
     "metadata": {
      "needs_background": "light"
     },
     "output_type": "display_data"
    }
   ],
   "source": [
    "google['Open'].plot(label='Opening_stocks')\n",
    "google['Close'].plot(label='Closing_stocks')\n",
    "google['High'].plot(label='Day_High')\n",
    "google['Low'].plot(label='Day_Low')\n",
    "google['Adj Close'].plot(label='Adjusted_Closing_Price')\n",
    "plt.legend()"
   ]
  },
  {
   "cell_type": "code",
   "execution_count": 69,
   "id": "74cd7a11",
   "metadata": {},
   "outputs": [],
   "source": [
    "revenue = pd.read_excel(\"Google_Annual_revenue.xlsx\")"
   ]
  },
  {
   "cell_type": "code",
   "execution_count": 70,
   "id": "35b85954",
   "metadata": {},
   "outputs": [
    {
     "data": {
      "text/html": [
       "<div>\n",
       "<style scoped>\n",
       "    .dataframe tbody tr th:only-of-type {\n",
       "        vertical-align: middle;\n",
       "    }\n",
       "\n",
       "    .dataframe tbody tr th {\n",
       "        vertical-align: top;\n",
       "    }\n",
       "\n",
       "    .dataframe thead th {\n",
       "        text-align: right;\n",
       "    }\n",
       "</style>\n",
       "<table border=\"1\" class=\"dataframe\">\n",
       "  <thead>\n",
       "    <tr style=\"text-align: right;\">\n",
       "      <th></th>\n",
       "      <th>Year</th>\n",
       "      <th>Annual Revenue(in Millions)</th>\n",
       "    </tr>\n",
       "  </thead>\n",
       "  <tbody>\n",
       "    <tr>\n",
       "      <th>0</th>\n",
       "      <td>2021</td>\n",
       "      <td>257637</td>\n",
       "    </tr>\n",
       "    <tr>\n",
       "      <th>1</th>\n",
       "      <td>2020</td>\n",
       "      <td>182527</td>\n",
       "    </tr>\n",
       "    <tr>\n",
       "      <th>2</th>\n",
       "      <td>2019</td>\n",
       "      <td>161857</td>\n",
       "    </tr>\n",
       "    <tr>\n",
       "      <th>3</th>\n",
       "      <td>2018</td>\n",
       "      <td>136819</td>\n",
       "    </tr>\n",
       "    <tr>\n",
       "      <th>4</th>\n",
       "      <td>2017</td>\n",
       "      <td>110855</td>\n",
       "    </tr>\n",
       "  </tbody>\n",
       "</table>\n",
       "</div>"
      ],
      "text/plain": [
       "   Year  Annual Revenue(in Millions)\n",
       "0  2021                       257637\n",
       "1  2020                       182527\n",
       "2  2019                       161857\n",
       "3  2018                       136819\n",
       "4  2017                       110855"
      ]
     },
     "execution_count": 70,
     "metadata": {},
     "output_type": "execute_result"
    }
   ],
   "source": [
    "revenue.head()"
   ]
  },
  {
   "cell_type": "code",
   "execution_count": 71,
   "id": "45f9e2b3",
   "metadata": {},
   "outputs": [
    {
     "data": {
      "text/html": [
       "<div>\n",
       "<style scoped>\n",
       "    .dataframe tbody tr th:only-of-type {\n",
       "        vertical-align: middle;\n",
       "    }\n",
       "\n",
       "    .dataframe tbody tr th {\n",
       "        vertical-align: top;\n",
       "    }\n",
       "\n",
       "    .dataframe thead th {\n",
       "        text-align: right;\n",
       "    }\n",
       "</style>\n",
       "<table border=\"1\" class=\"dataframe\">\n",
       "  <thead>\n",
       "    <tr style=\"text-align: right;\">\n",
       "      <th></th>\n",
       "      <th>Year</th>\n",
       "      <th>Annual Revenue(in Millions)</th>\n",
       "    </tr>\n",
       "  </thead>\n",
       "  <tbody>\n",
       "    <tr>\n",
       "      <th>count</th>\n",
       "      <td>14.000000</td>\n",
       "      <td>14.000000</td>\n",
       "    </tr>\n",
       "    <tr>\n",
       "      <th>mean</th>\n",
       "      <td>2014.571429</td>\n",
       "      <td>92645.928571</td>\n",
       "    </tr>\n",
       "    <tr>\n",
       "      <th>std</th>\n",
       "      <td>4.070802</td>\n",
       "      <td>69878.382955</td>\n",
       "    </tr>\n",
       "    <tr>\n",
       "      <th>min</th>\n",
       "      <td>2009.000000</td>\n",
       "      <td>23651.000000</td>\n",
       "    </tr>\n",
       "    <tr>\n",
       "      <th>25%</th>\n",
       "      <td>2011.250000</td>\n",
       "      <td>39938.500000</td>\n",
       "    </tr>\n",
       "    <tr>\n",
       "      <th>50%</th>\n",
       "      <td>2014.500000</td>\n",
       "      <td>70495.000000</td>\n",
       "    </tr>\n",
       "    <tr>\n",
       "      <th>75%</th>\n",
       "      <td>2017.750000</td>\n",
       "      <td>130328.000000</td>\n",
       "    </tr>\n",
       "    <tr>\n",
       "      <th>max</th>\n",
       "      <td>2021.000000</td>\n",
       "      <td>257637.000000</td>\n",
       "    </tr>\n",
       "  </tbody>\n",
       "</table>\n",
       "</div>"
      ],
      "text/plain": [
       "              Year  Annual Revenue(in Millions)\n",
       "count    14.000000                    14.000000\n",
       "mean   2014.571429                 92645.928571\n",
       "std       4.070802                 69878.382955\n",
       "min    2009.000000                 23651.000000\n",
       "25%    2011.250000                 39938.500000\n",
       "50%    2014.500000                 70495.000000\n",
       "75%    2017.750000                130328.000000\n",
       "max    2021.000000                257637.000000"
      ]
     },
     "execution_count": 71,
     "metadata": {},
     "output_type": "execute_result"
    }
   ],
   "source": [
    "revenue.describe()"
   ]
  },
  {
   "cell_type": "code",
   "execution_count": 73,
   "id": "124cda21",
   "metadata": {},
   "outputs": [],
   "source": [
    "x = revenue['Year']\n",
    "y = revenue['Annual Revenue(in Millions)']"
   ]
  },
  {
   "cell_type": "code",
   "execution_count": 74,
   "id": "dd83998f",
   "metadata": {},
   "outputs": [
    {
     "data": {
      "text/plain": [
       "[<matplotlib.lines.Line2D at 0x7fab6acbff70>]"
      ]
     },
     "execution_count": 74,
     "metadata": {},
     "output_type": "execute_result"
    },
    {
     "data": {
      "image/png": "[encoded data removed]",
      "text/plain": [
       "<Figure size 432x288 with 1 Axes>"
      ]
     },
     "metadata": {
      "needs_background": "light"
     },
     "output_type": "display_data"
    }
   ],
   "source": [
    "plt.plot(x,y)"
   ]
  },
  {
   "cell_type": "markdown",
   "id": "f95b6304",
   "metadata": {},
   "source": [
    "\n"
   ]
  }
 ],
 "metadata": {
  "kernelspec": {
   "display_name": "Python 3 (ipykernel)",
   "language": "python",
   "name": "python3"
  },
  "language_info": {
   "codemirror_mode": {
    "name": "ipython",
    "version": 3
   },
   "file_extension": ".py",
   "mimetype": "text/x-python",
   "name": "python",
   "nbconvert_exporter": "python",
   "pygments_lexer": "ipython3",
   "version": "3.9.7"
  }
 },
 "nbformat": 4,
 "nbformat_minor": 5
}
